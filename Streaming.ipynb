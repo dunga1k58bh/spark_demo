{
 "cells": [
  {
   "cell_type": "code",
   "execution_count": 54,
   "metadata": {},
   "outputs": [],
   "source": [
    "from pyspark.sql.types import StructType,StructField, StringType, IntegerType, DoubleType, BooleanType\n",
    "from pyspark.sql import SparkSession\n",
    "from pyspark.streaming import StreamingContext"
   ]
  },
  {
   "cell_type": "markdown",
   "metadata": {},
   "source": [
    "**Create Streaming Context**"
   ]
  },
  {
   "cell_type": "code",
   "execution_count": 2,
   "metadata": {},
   "outputs": [
    {
     "name": "stderr",
     "output_type": "stream",
     "text": [
      "Setting default log level to \"WARN\".\n",
      "To adjust logging level use sc.setLogLevel(newLevel). For SparkR, use setLogLevel(newLevel).\n"
     ]
    },
    {
     "name": "stdout",
     "output_type": "stream",
     "text": [
      "22/08/02 22:33:24 WARN NativeCodeLoader: Unable to load native-hadoop library for your platform... using builtin-java classes where applicable\n",
      "22/08/02 22:33:27 WARN Utils: Service 'SparkUI' could not bind on port 4040. Attempting port 4041.\n"
     ]
    },
    {
     "data": {
      "text/html": [
       "\n",
       "            <div>\n",
       "                <p><b>SparkSession - in-memory</b></p>\n",
       "                \n",
       "        <div>\n",
       "            <p><b>SparkContext</b></p>\n",
       "\n",
       "            <p><a href=\"http://master:4041\">Spark UI</a></p>\n",
       "\n",
       "            <dl>\n",
       "              <dt>Version</dt>\n",
       "                <dd><code>v3.3.0</code></dd>\n",
       "              <dt>Master</dt>\n",
       "                <dd><code>local[*]</code></dd>\n",
       "              <dt>AppName</dt>\n",
       "                <dd><code>Spark streaming test</code></dd>\n",
       "            </dl>\n",
       "        </div>\n",
       "        \n",
       "            </div>\n",
       "        "
      ],
      "text/plain": [
       "<pyspark.sql.session.SparkSession at 0x7f0cd6e268e0>"
      ]
     },
     "execution_count": 2,
     "metadata": {},
     "output_type": "execute_result"
    }
   ],
   "source": [
    "#First van can sparksession\n",
    "spark:SparkSession = SparkSession.builder \\\n",
    "      .appName(\"Spark streaming test\") \\\n",
    "      .getOrCreate()\n",
    "spark"
   ]
  },
  {
   "cell_type": "markdown",
   "metadata": {},
   "source": [
    "**Tao 1 streaming don gian**"
   ]
  },
  {
   "cell_type": "code",
   "execution_count": 74,
   "metadata": {},
   "outputs": [
    {
     "name": "stdout",
     "output_type": "stream",
     "text": [
      "-------------------------------------------\n",
      "Batch: 0\n",
      "-------------------------------------------\n",
      "+-------+-----------------+\n",
      "|Zipcode|             City|\n",
      "+-------+-----------------+\n",
      "|  76166|CINGULAR WIRELESS|\n",
      "|  76177|       FORT WORTH|\n",
      "|  76177|         FT WORTH|\n",
      "|  85209|             MESA|\n",
      "|  85210|             MESA|\n",
      "|  32046|         HILLIARD|\n",
      "|  34445|           HOLDER|\n",
      "|  32564|             HOLT|\n",
      "|  34487|        HOMOSASSA|\n",
      "|  36275|    SPRING GARDEN|\n",
      "|  35146|      SPRINGVILLE|\n",
      "|  35585|      SPRUCE PINE|\n",
      "|  27007|         ASH HILL|\n",
      "|  27203|         ASHEBORO|\n",
      "|  27204|         ASHEBORO|\n",
      "|  36275|    SPRING GARDEN|\n",
      "|  35146|      SPRINGVILLE|\n",
      "|  35585|      SPRUCE PINE|\n",
      "|  27007|         ASH HILL|\n",
      "|  27203|         ASHEBORO|\n",
      "+-------+-----------------+\n",
      "only showing top 20 rows\n",
      "\n",
      "-------------------------------------------\n",
      "Batch: 1\n",
      "-------------------------------------------\n",
      "+-------+-----------------+\n",
      "|Zipcode|             City|\n",
      "+-------+-----------------+\n",
      "|  76166|CINGULAR WIRELESS|\n",
      "|  76177|       FORT WORTH|\n",
      "|  76177|         FT WORTH|\n",
      "|  85209|             MESA|\n",
      "|  85210|             MESA|\n",
      "|  32046|         HILLIARD|\n",
      "|  34445|           HOLDER|\n",
      "|  32564|             HOLT|\n",
      "|  34487|        HOMOSASSA|\n",
      "|  36275|    SPRING GARDEN|\n",
      "|  35146|      SPRINGVILLE|\n",
      "|  35585|      SPRUCE PINE|\n",
      "|  27007|         ASH HILL|\n",
      "|  27203|         ASHEBORO|\n",
      "|  27204|         ASHEBORO|\n",
      "+-------+-----------------+\n",
      "\n"
     ]
    }
   ],
   "source": [
    "#O day chi don gian la tao mot streaming bang cach doc cac ban ghi json trong thu muc streaming data\n",
    "\n",
    "#schema define - neu doc file json thi bat buoc phai co\n",
    "schema = StructType() \\\n",
    "      .add(\"RecordNumber\",IntegerType(),True) \\\n",
    "      .add(\"Zipcode\",IntegerType(),True) \\\n",
    "      .add(\"ZipCodeType\",StringType(),True) \\\n",
    "      .add(\"City\",StringType(),True) \\\n",
    "      .add(\"State\",StringType(),True) \\\n",
    "      .add(\"LocationType\",StringType(),True) \\\n",
    "      .add(\"Lat\",DoubleType(),True) \\\n",
    "      .add(\"Long\",DoubleType(),True) \\\n",
    "      .add(\"Xaxis\",IntegerType(),True) \\\n",
    "      .add(\"Yaxis\",DoubleType(),True) \\\n",
    "      .add(\"Zaxis\",DoubleType(),True) \\\n",
    "      .add(\"WorldRegion\",StringType(),True) \\\n",
    "      .add(\"Country\",StringType(),True) \\\n",
    "      .add(\"LocationText\",StringType(),True) \\\n",
    "      .add(\"Location\",StringType(),True) \\\n",
    "      .add(\"Decommisioned\",BooleanType(),True) \\\n",
    "      .add(\"TaxReturnsFiled\",StringType(),True) \\\n",
    "      .add(\"EstimatedPopulation\",IntegerType(),True) \\\n",
    "      .add(\"TotalWages\",IntegerType(),True) \\\n",
    "      .add(\"Notes\",StringType(),True)\n",
    "\n",
    "df_with_schema = spark.readStream \\\n",
    "      .format(\"json\") \\\n",
    "      .option(\"header\", True) \\\n",
    "      .option(\"host\", \"master\") \\\n",
    "      .option(\"port\", 9999) \\\n",
    "      .option(\"rowsPerSecond\", 3) \\\n",
    "      .schema(schema) \\\n",
    "      .load(\"file:///home/iloveu/BK_bat_diet/20212/BigData/spark_test/streming_data\")\n",
    "\n",
    "zipCode_df = df_with_schema \\\n",
    "      .select(\"Zipcode\", \"City\") \\\n",
    "      .where(\"Zipcode > 10000\")\n",
    "query = zipCode_df \\\n",
    "    .writeStream \\\n",
    "    .format(\"console\") \\\n",
    "    .outputMode(\"update\") \\\n",
    "    .start()\n",
    "\n",
    "query.awaitTermination()"
   ]
  }
 ],
 "metadata": {
  "kernelspec": {
   "display_name": "Python 3.8.10 ('.venv': venv)",
   "language": "python",
   "name": "python3"
  },
  "language_info": {
   "codemirror_mode": {
    "name": "ipython",
    "version": 3
   },
   "file_extension": ".py",
   "mimetype": "text/x-python",
   "name": "python",
   "nbconvert_exporter": "python",
   "pygments_lexer": "ipython3",
   "version": "3.8.10"
  },
  "orig_nbformat": 4,
  "vscode": {
   "interpreter": {
    "hash": "b1fa783441936ab6be1890440a391a39396053c8c0014a2a5b73d7098a524eee"
   }
  }
 },
 "nbformat": 4,
 "nbformat_minor": 2
}
